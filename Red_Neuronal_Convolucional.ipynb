{
  "nbformat": 4,
  "nbformat_minor": 0,
  "metadata": {
    "colab": {
      "name": "Red Neuronal Convolucional.ipynb",
      "provenance": [],
      "collapsed_sections": [],
      "include_colab_link": true
    },
    "kernelspec": {
      "name": "python3",
      "display_name": "Python 3"
    },
    "accelerator": "GPU"
  },
  "cells": [
    {
      "cell_type": "markdown",
      "metadata": {
        "id": "view-in-github",
        "colab_type": "text"
      },
      "source": [
        "<a href=\"https://colab.research.google.com/github/karlbehrensg/rnc-cifar10/blob/master/Red_Neuronal_Convolucional.ipynb\" target=\"_parent\"><img src=\"https://colab.research.google.com/assets/colab-badge.svg\" alt=\"Open In Colab\"/></a>"
      ]
    },
    {
      "cell_type": "markdown",
      "metadata": {
        "id": "lRHFdNYAfWKJ",
        "colab_type": "text"
      },
      "source": [
        "## Importar las librerías necesarias"
      ]
    },
    {
      "cell_type": "code",
      "metadata": {
        "id": "tS5xFeQwe9Xu",
        "colab_type": "code",
        "outputId": "a06bb6a1-b411-44f7-dd76-ea10b443dc74",
        "colab": {
          "base_uri": "https://localhost:8080/",
          "height": 35
        }
      },
      "source": [
        "import tensorflow as tf\n",
        "import matplotlib.pyplot as plt\n",
        "\n",
        "from tensorflow.keras.datasets import cifar10\n",
        "\n",
        "%matplotlib inline\n",
        "tf.__version__"
      ],
      "execution_count": 5,
      "outputs": [
        {
          "output_type": "execute_result",
          "data": {
            "text/plain": [
              "'2.2.0-rc2'"
            ]
          },
          "metadata": {
            "tags": []
          },
          "execution_count": 5
        }
      ]
    },
    {
      "cell_type": "markdown",
      "metadata": {
        "id": "e8zYubaPfy-S",
        "colab_type": "text"
      },
      "source": [
        "## Pre procesado de datos\n"
      ]
    },
    {
      "cell_type": "markdown",
      "metadata": {
        "id": "AOAGjiPogF0w",
        "colab_type": "text"
      },
      "source": [
        "### Cargar el dataset  Cifar10"
      ]
    },
    {
      "cell_type": "code",
      "metadata": {
        "id": "v1N6LbS-e9a1",
        "colab_type": "code",
        "colab": {}
      },
      "source": [
        "# Configurar el nombre de las clases del dataset\n",
        "class_names = ['avión', 'coche', 'pájaro', 'gato', 'ciervo', 'perro', 'rana', 'caballo', 'barco', 'camión']"
      ],
      "execution_count": 0,
      "outputs": []
    },
    {
      "cell_type": "code",
      "metadata": {
        "id": "f13-8-m_fqKP",
        "colab_type": "code",
        "colab": {}
      },
      "source": [
        "# Cargar el dataset\n",
        "(X_train, y_train), (X_test, y_test) = cifar10.load_data()"
      ],
      "execution_count": 0,
      "outputs": []
    },
    {
      "cell_type": "markdown",
      "metadata": {
        "id": "XqDIpsJWgUkz",
        "colab_type": "text"
      },
      "source": [
        "### Normalización de las imágenes"
      ]
    },
    {
      "cell_type": "code",
      "metadata": {
        "id": "-QFncPlpgNmU",
        "colab_type": "code",
        "colab": {}
      },
      "source": [
        "X_train = X_train / 255.0"
      ],
      "execution_count": 0,
      "outputs": []
    },
    {
      "cell_type": "code",
      "metadata": {
        "id": "L1rFHX67gc6G",
        "colab_type": "code",
        "outputId": "01673046-fb98-4fe0-c9e0-06853344070d",
        "colab": {
          "base_uri": "https://localhost:8080/",
          "height": 35
        }
      },
      "source": [
        "X_train.shape"
      ],
      "execution_count": 9,
      "outputs": [
        {
          "output_type": "execute_result",
          "data": {
            "text/plain": [
              "(50000, 32, 32, 3)"
            ]
          },
          "metadata": {
            "tags": []
          },
          "execution_count": 9
        }
      ]
    },
    {
      "cell_type": "code",
      "metadata": {
        "id": "Ve2WbRGWgc3I",
        "colab_type": "code",
        "colab": {}
      },
      "source": [
        "X_test = X_test / 255.0"
      ],
      "execution_count": 0,
      "outputs": []
    },
    {
      "cell_type": "code",
      "metadata": {
        "id": "7jwvNZ82gh9d",
        "colab_type": "code",
        "outputId": "c70b7bdc-bbe9-4d02-a2dc-e0341479743f",
        "colab": {
          "base_uri": "https://localhost:8080/",
          "height": 284
        }
      },
      "source": [
        "plt.imshow(X_test[10])"
      ],
      "execution_count": 11,
      "outputs": [
        {
          "output_type": "execute_result",
          "data": {
            "text/plain": [
              "<matplotlib.image.AxesImage at 0x7f364e359908>"
            ]
          },
          "metadata": {
            "tags": []
          },
          "execution_count": 11
        },
        {
          "output_type": "display_data",
          "data": {
            "image/png": "[encoded data removed]",
            "text/plain": [
              "<Figure size 432x288 with 1 Axes>"
            ]
          },
          "metadata": {
            "tags": [],
            "needs_background": "light"
          }
        }
      ]
    },
    {
      "cell_type": "code",
      "metadata": {
        "id": "KVa5IU6o-tJL",
        "colab_type": "code",
        "outputId": "12812ac4-10fb-46fe-f336-9353f1274365",
        "colab": {
          "base_uri": "https://localhost:8080/",
          "height": 35
        }
      },
      "source": [
        "y_test[10]"
      ],
      "execution_count": 12,
      "outputs": [
        {
          "output_type": "execute_result",
          "data": {
            "text/plain": [
              "array([0], dtype=uint8)"
            ]
          },
          "metadata": {
            "tags": []
          },
          "execution_count": 12
        }
      ]
    },
    {
      "cell_type": "markdown",
      "metadata": {
        "id": "HXiuZulIguyf",
        "colab_type": "text"
      },
      "source": [
        "## Construir una red neuronal convolucional"
      ]
    },
    {
      "cell_type": "markdown",
      "metadata": {
        "id": "ZFTetk8ngy0f",
        "colab_type": "text"
      },
      "source": [
        "### Definir el modelo"
      ]
    },
    {
      "cell_type": "code",
      "metadata": {
        "id": "1TR0JGP5gq2i",
        "colab_type": "code",
        "colab": {}
      },
      "source": [
        "model = tf.keras.models.Sequential()"
      ],
      "execution_count": 0,
      "outputs": []
    },
    {
      "cell_type": "markdown",
      "metadata": {
        "id": "j92d4FE0hTZV",
        "colab_type": "text"
      },
      "source": [
        "### Añadir la primera capa de convolución\n",
        "\n",
        "Hyper parámetros de la capa de la RNC:\n",
        "- Filtros: 32\n",
        "- Tamaño del kernel: 3\n",
        "- padding: same\n",
        "- Función de Activación: relu\n",
        "- input_shape: (32, 32, 3)\n"
      ]
    },
    {
      "cell_type": "code",
      "metadata": {
        "id": "LSkL1iOvg_dE",
        "colab_type": "code",
        "colab": {}
      },
      "source": [
        "model.add(tf.keras.layers.Conv2D(filters=32, kernel_size=3, padding=\"same\", activation=\"relu\", input_shape=[32, 32, 3]))\n"
      ],
      "execution_count": 0,
      "outputs": []
    },
    {
      "cell_type": "markdown",
      "metadata": {
        "colab_type": "text",
        "id": "MBvMWw3mkbp_"
      },
      "source": [
        "### Añadir una capa de Dropout"
      ]
    },
    {
      "cell_type": "code",
      "metadata": {
        "colab_type": "code",
        "id": "lvxZiyV1kcyJ",
        "colab": {}
      },
      "source": [
        "model.add(tf.keras.layers.Dropout(0.1))"
      ],
      "execution_count": 0,
      "outputs": []
    },
    {
      "cell_type": "markdown",
      "metadata": {
        "id": "gfRAaRmWiSlZ",
        "colab_type": "text"
      },
      "source": [
        "### Añadir una segunda capa convolucional y la capa de max-pooling \n",
        "\n",
        "Hyper parámetros de la capa de la RNC:\n",
        "- Filtros: 32\n",
        "- Tamaño del kernel: 3\n",
        "- padding: same\n",
        "- Función de Activación: relu\n",
        "\n",
        "Hyper parámetros de la capa de MaxPool:\n",
        "- pool_size: 2\n",
        "- strides: 2\n",
        "- padding: valid"
      ]
    },
    {
      "cell_type": "code",
      "metadata": {
        "id": "sSl7Es5yidMp",
        "colab_type": "code",
        "colab": {}
      },
      "source": [
        "model.add(tf.keras.layers.Conv2D(filters=32, kernel_size=3, padding=\"same\", activation=\"relu\"))"
      ],
      "execution_count": 0,
      "outputs": []
    },
    {
      "cell_type": "code",
      "metadata": {
        "id": "wmP9h5wliAR6",
        "colab_type": "code",
        "colab": {}
      },
      "source": [
        "model.add(tf.keras.layers.MaxPool2D(pool_size=2, strides=2, padding='valid'))"
      ],
      "execution_count": 0,
      "outputs": []
    },
    {
      "cell_type": "markdown",
      "metadata": {
        "colab_type": "text",
        "id": "9IY4cLpRkQwc"
      },
      "source": [
        "### Añadir una capa de Dropout"
      ]
    },
    {
      "cell_type": "code",
      "metadata": {
        "colab_type": "code",
        "id": "zI6W-0PBkTD3",
        "colab": {}
      },
      "source": [
        "model.add(tf.keras.layers.Dropout(0.1))"
      ],
      "execution_count": 0,
      "outputs": []
    },
    {
      "cell_type": "markdown",
      "metadata": {
        "id": "wd8ERDyvin-0",
        "colab_type": "text"
      },
      "source": [
        "### Añadir la tercera capa convolucional\n",
        "\n",
        "Hyper parámetros de la capa de la RNC:\n",
        "- Filtros: 64\n",
        "- Tamaño del kernel: 3\n",
        "- padding: same\n",
        "- Función de Activación: relu\n"
      ]
    },
    {
      "cell_type": "code",
      "metadata": {
        "id": "i9HWy6aFixEw",
        "colab_type": "code",
        "colab": {}
      },
      "source": [
        "model.add(tf.keras.layers.Conv2D(filters=64, kernel_size=3, padding=\"same\", activation=\"relu\"))"
      ],
      "execution_count": 0,
      "outputs": []
    },
    {
      "cell_type": "markdown",
      "metadata": {
        "id": "O55kyOQGi44V",
        "colab_type": "text"
      },
      "source": [
        "###  Añadir la cuarta capa convolucional y la capa de max-pooling\n",
        "\n",
        "Hyper parámetros de la capa de la RNC:\n",
        "- Filtros: 64\n",
        "- Tamaño del kernel: 3\n",
        "- padding: same\n",
        "- Función de Activación: relu\n",
        "\n",
        "Hyper parámetros de la capa de la MaxPool:\n",
        "- pool_size: 2\n",
        "- strides: 2\n",
        "- padding: valid\n"
      ]
    },
    {
      "cell_type": "code",
      "metadata": {
        "id": "5b7vAuhjjCF2",
        "colab_type": "code",
        "colab": {}
      },
      "source": [
        "model.add(tf.keras.layers.Conv2D(filters=64, kernel_size=3, padding=\"same\", activation=\"relu\"))"
      ],
      "execution_count": 0,
      "outputs": []
    },
    {
      "cell_type": "code",
      "metadata": {
        "id": "oc493G2BjFhg",
        "colab_type": "code",
        "colab": {}
      },
      "source": [
        "model.add(tf.keras.layers.MaxPool2D(pool_size=2, strides=2, padding='valid'))"
      ],
      "execution_count": 0,
      "outputs": []
    },
    {
      "cell_type": "markdown",
      "metadata": {
        "id": "-hGnR3aXjKbZ",
        "colab_type": "text"
      },
      "source": [
        "### Añadir la capa de flattening"
      ]
    },
    {
      "cell_type": "code",
      "metadata": {
        "id": "QLzu2cCVjI5Z",
        "colab_type": "code",
        "colab": {}
      },
      "source": [
        "model.add(tf.keras.layers.Flatten())"
      ],
      "execution_count": 0,
      "outputs": []
    },
    {
      "cell_type": "markdown",
      "metadata": {
        "colab_type": "text",
        "id": "Nh9VGYBqkZwv"
      },
      "source": [
        "### Añadir una capa de Dropout"
      ]
    },
    {
      "cell_type": "code",
      "metadata": {
        "colab_type": "code",
        "id": "AJt2BTzOkXmB",
        "colab": {}
      },
      "source": [
        "model.add(tf.keras.layers.Dropout(0.1))"
      ],
      "execution_count": 0,
      "outputs": []
    },
    {
      "cell_type": "markdown",
      "metadata": {
        "colab_type": "text",
        "id": "qm31cdC-luYR"
      },
      "source": [
        "### Añadir la primera capa fully-connected\n",
        "\n",
        "Hyper parámetros de la capa totalmente conectada:\n",
        "- units/neurons: 128\n",
        "- activation: relu"
      ]
    },
    {
      "cell_type": "code",
      "metadata": {
        "colab_type": "code",
        "id": "jSaFZXnzls65",
        "colab": {}
      },
      "source": [
        "model.add(tf.keras.layers.Dense(units=128, activation='relu'))"
      ],
      "execution_count": 0,
      "outputs": []
    },
    {
      "cell_type": "markdown",
      "metadata": {
        "colab_type": "text",
        "id": "lVlFafXRls7E"
      },
      "source": [
        "### Añadir una capa de Dropout"
      ]
    },
    {
      "cell_type": "code",
      "metadata": {
        "colab_type": "code",
        "id": "Eo3_gsomls7F",
        "colab": {}
      },
      "source": [
        "model.add(tf.keras.layers.Dropout(0.15))"
      ],
      "execution_count": 0,
      "outputs": []
    },
    {
      "cell_type": "markdown",
      "metadata": {
        "colab_type": "text",
        "id": "pl4Iz3F8lyxP"
      },
      "source": [
        "### Añadir la primera capa fully-connected\n",
        "\n",
        "Hyper parámetros de la capa totalmente conectada:\n",
        "- units/neurons: 64\n",
        "- activation: relu"
      ]
    },
    {
      "cell_type": "code",
      "metadata": {
        "colab_type": "code",
        "id": "WfNeg5WzlyxS",
        "colab": {}
      },
      "source": [
        "model.add(tf.keras.layers.Dense(units=64, activation='relu'))"
      ],
      "execution_count": 0,
      "outputs": []
    },
    {
      "cell_type": "markdown",
      "metadata": {
        "colab_type": "text",
        "id": "2XZcSzxKlyxb"
      },
      "source": [
        "### Añadir una capa de Dropout"
      ]
    },
    {
      "cell_type": "code",
      "metadata": {
        "colab_type": "code",
        "id": "o49SP_YTlyxd",
        "colab": {}
      },
      "source": [
        "model.add(tf.keras.layers.Dropout(0.2))"
      ],
      "execution_count": 0,
      "outputs": []
    },
    {
      "cell_type": "markdown",
      "metadata": {
        "id": "UaakKTqRjrkF",
        "colab_type": "text"
      },
      "source": [
        "### Añadir la capa de salida\n",
        "\n",
        "Hyper parámetros de la capa totalmente conectada:\n",
        "\n",
        " - units/neurons: 10 (number of classes)\n",
        " - activation: softmax\n"
      ]
    },
    {
      "cell_type": "code",
      "metadata": {
        "id": "4t-JmzRvjnBj",
        "colab_type": "code",
        "colab": {}
      },
      "source": [
        "model.add(tf.keras.layers.Dense(units=10, activation='softmax'))"
      ],
      "execution_count": 0,
      "outputs": []
    },
    {
      "cell_type": "code",
      "metadata": {
        "id": "aRr3bCU-ti06",
        "colab_type": "code",
        "outputId": "d3fbdc38-0bec-4154-a180-8cb605e5095e",
        "colab": {
          "base_uri": "https://localhost:8080/",
          "height": 715
        }
      },
      "source": [
        "model.summary()"
      ],
      "execution_count": 29,
      "outputs": [
        {
          "output_type": "stream",
          "text": [
            "Model: \"sequential\"\n",
            "_________________________________________________________________\n",
            "Layer (type)                 Output Shape              Param #   \n",
            "=================================================================\n",
            "conv2d (Conv2D)              (None, 32, 32, 32)        896       \n",
            "_________________________________________________________________\n",
            "dropout (Dropout)            (None, 32, 32, 32)        0         \n",
            "_________________________________________________________________\n",
            "conv2d_1 (Conv2D)            (None, 32, 32, 32)        9248      \n",
            "_________________________________________________________________\n",
            "max_pooling2d (MaxPooling2D) (None, 16, 16, 32)        0         \n",
            "_________________________________________________________________\n",
            "dropout_1 (Dropout)          (None, 16, 16, 32)        0         \n",
            "_________________________________________________________________\n",
            "conv2d_2 (Conv2D)            (None, 16, 16, 64)        18496     \n",
            "_________________________________________________________________\n",
            "conv2d_3 (Conv2D)            (None, 16, 16, 64)        36928     \n",
            "_________________________________________________________________\n",
            "max_pooling2d_1 (MaxPooling2 (None, 8, 8, 64)          0         \n",
            "_________________________________________________________________\n",
            "flatten (Flatten)            (None, 4096)              0         \n",
            "_________________________________________________________________\n",
            "dropout_2 (Dropout)          (None, 4096)              0         \n",
            "_________________________________________________________________\n",
            "dense (Dense)                (None, 128)               524416    \n",
            "_________________________________________________________________\n",
            "dropout_3 (Dropout)          (None, 128)               0         \n",
            "_________________________________________________________________\n",
            "dense_1 (Dense)              (None, 64)                8256      \n",
            "_________________________________________________________________\n",
            "dropout_4 (Dropout)          (None, 64)                0         \n",
            "_________________________________________________________________\n",
            "dense_2 (Dense)              (None, 10)                650       \n",
            "=================================================================\n",
            "Total params: 598,890\n",
            "Trainable params: 598,890\n",
            "Non-trainable params: 0\n",
            "_________________________________________________________________\n"
          ],
          "name": "stdout"
        }
      ]
    },
    {
      "cell_type": "markdown",
      "metadata": {
        "id": "DYgvbNihtprw",
        "colab_type": "text"
      },
      "source": [
        "### Compilar el modelo\n",
        "\n",
        "#### sparse_categorical_accuracy\n",
        "sparse_categorical_accuracy comprueba si el valor verdadero maximal coincide con el índice maximal del valor de la predicción.\n",
        "\n",
        "https://stackoverflow.com/questions/44477489/keras-difference-between-categorical-accuracy-and-sparse-categorical-accuracy "
      ]
    },
    {
      "cell_type": "code",
      "metadata": {
        "id": "oYHELxz4tsa-",
        "colab_type": "code",
        "colab": {}
      },
      "source": [
        "model.compile(loss=\"sparse_categorical_crossentropy\", optimizer=\"adam\", metrics=[\"sparse_categorical_accuracy\"])"
      ],
      "execution_count": 0,
      "outputs": []
    },
    {
      "cell_type": "markdown",
      "metadata": {
        "id": "Gox3SmwUtwgX",
        "colab_type": "text"
      },
      "source": [
        "### Entrenar el modelo"
      ]
    },
    {
      "cell_type": "code",
      "metadata": {
        "id": "D3MHvRYKe9fN",
        "colab_type": "code",
        "outputId": "bab00b89-bca5-4043-c2ab-ed7b1deffbeb",
        "colab": {
          "base_uri": "https://localhost:8080/",
          "height": 586
        }
      },
      "source": [
        "model.fit(X_train, y_train, epochs=15)"
      ],
      "execution_count": 31,
      "outputs": [
        {
          "output_type": "stream",
          "text": [
            "Epoch 1/15\n",
            "1563/1563 [==============================] - 7s 4ms/step - loss: 1.5739 - sparse_categorical_accuracy: 0.4245\n",
            "Epoch 2/15\n",
            "1563/1563 [==============================] - 6s 4ms/step - loss: 1.1418 - sparse_categorical_accuracy: 0.5966\n",
            "Epoch 3/15\n",
            "1563/1563 [==============================] - 6s 4ms/step - loss: 0.9671 - sparse_categorical_accuracy: 0.6627\n",
            "Epoch 4/15\n",
            "1563/1563 [==============================] - 6s 4ms/step - loss: 0.8619 - sparse_categorical_accuracy: 0.7000\n",
            "Epoch 5/15\n",
            "1563/1563 [==============================] - 6s 4ms/step - loss: 0.7865 - sparse_categorical_accuracy: 0.7246\n",
            "Epoch 6/15\n",
            "1563/1563 [==============================] - 6s 4ms/step - loss: 0.7360 - sparse_categorical_accuracy: 0.7460\n",
            "Epoch 7/15\n",
            "1563/1563 [==============================] - 6s 4ms/step - loss: 0.6882 - sparse_categorical_accuracy: 0.7619\n",
            "Epoch 8/15\n",
            "1563/1563 [==============================] - 6s 4ms/step - loss: 0.6412 - sparse_categorical_accuracy: 0.7764\n",
            "Epoch 9/15\n",
            "1563/1563 [==============================] - 6s 4ms/step - loss: 0.6087 - sparse_categorical_accuracy: 0.7914\n",
            "Epoch 10/15\n",
            "1563/1563 [==============================] - 6s 4ms/step - loss: 0.5762 - sparse_categorical_accuracy: 0.7989\n",
            "Epoch 11/15\n",
            "1563/1563 [==============================] - 6s 4ms/step - loss: 0.5498 - sparse_categorical_accuracy: 0.8082\n",
            "Epoch 12/15\n",
            "1563/1563 [==============================] - 6s 4ms/step - loss: 0.5263 - sparse_categorical_accuracy: 0.8176\n",
            "Epoch 13/15\n",
            "1563/1563 [==============================] - 6s 4ms/step - loss: 0.4995 - sparse_categorical_accuracy: 0.8255\n",
            "Epoch 14/15\n",
            "1563/1563 [==============================] - 6s 4ms/step - loss: 0.4850 - sparse_categorical_accuracy: 0.8299\n",
            "Epoch 15/15\n",
            "1563/1563 [==============================] - 6s 4ms/step - loss: 0.4646 - sparse_categorical_accuracy: 0.8378\n"
          ],
          "name": "stdout"
        },
        {
          "output_type": "execute_result",
          "data": {
            "text/plain": [
              "<tensorflow.python.keras.callbacks.History at 0x7f362849a8d0>"
            ]
          },
          "metadata": {
            "tags": []
          },
          "execution_count": 31
        }
      ]
    },
    {
      "cell_type": "markdown",
      "metadata": {
        "id": "D8C7Pm0NuOrJ",
        "colab_type": "text"
      },
      "source": [
        "### Evaluar el modelo"
      ]
    },
    {
      "cell_type": "code",
      "metadata": {
        "id": "Z9r8TtNet3D0",
        "colab_type": "code",
        "outputId": "614cf2b8-e8eb-41fc-967c-7f291df5584b",
        "colab": {
          "base_uri": "https://localhost:8080/",
          "height": 35
        }
      },
      "source": [
        "test_loss, test_accuracy = model.evaluate(X_test, y_test)"
      ],
      "execution_count": 32,
      "outputs": [
        {
          "output_type": "stream",
          "text": [
            "313/313 [==============================] - 1s 2ms/step - loss: 0.7881 - sparse_categorical_accuracy: 0.7542\n"
          ],
          "name": "stdout"
        }
      ]
    },
    {
      "cell_type": "code",
      "metadata": {
        "id": "0rpAPpfzuV0p",
        "colab_type": "code",
        "outputId": "4d6b98e1-4d4e-41a6-c20a-cf009a9d8330",
        "colab": {
          "base_uri": "https://localhost:8080/",
          "height": 35
        }
      },
      "source": [
        "print(\"Test accuracy: {}\".format(test_accuracy))"
      ],
      "execution_count": 33,
      "outputs": [
        {
          "output_type": "stream",
          "text": [
            "Test accuracy: 0.7541999816894531\n"
          ],
          "name": "stdout"
        }
      ]
    }
  ]
}